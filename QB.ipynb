{
 "cells": [
  {
   "cell_type": "code",
   "execution_count": 27,
   "metadata": {},
   "outputs": [],
   "source": [
    "import pandas as pd\n",
    "import statsmodels.api as sm\n",
    "import pylab as pl\n",
    "import numpy as np"
   ]
  },
  {
   "cell_type": "code",
   "execution_count": 28,
   "metadata": {},
   "outputs": [
    {
     "data": {
      "text/html": [
       "<div>\n",
       "<style scoped>\n",
       "    .dataframe tbody tr th:only-of-type {\n",
       "        vertical-align: middle;\n",
       "    }\n",
       "\n",
       "    .dataframe tbody tr th {\n",
       "        vertical-align: top;\n",
       "    }\n",
       "\n",
       "    .dataframe thead th {\n",
       "        text-align: right;\n",
       "    }\n",
       "</style>\n",
       "<table border=\"1\" class=\"dataframe\">\n",
       "  <thead>\n",
       "    <tr style=\"text-align: right;\">\n",
       "      <th></th>\n",
       "      <th>GAME</th>\n",
       "      <th>WEEK</th>\n",
       "      <th>PLAYER_EXP_Y</th>\n",
       "      <th>LAST_WEEK_DK_POINTS</th>\n",
       "      <th>LAST_6_WEEK_DK_POINTS</th>\n",
       "      <th>OVER_18_PTS</th>\n",
       "    </tr>\n",
       "  </thead>\n",
       "  <tbody>\n",
       "    <tr>\n",
       "      <th>0</th>\n",
       "      <td>2</td>\n",
       "      <td>2</td>\n",
       "      <td>17</td>\n",
       "      <td>0.00</td>\n",
       "      <td>0.00</td>\n",
       "      <td>0</td>\n",
       "    </tr>\n",
       "    <tr>\n",
       "      <th>1</th>\n",
       "      <td>2</td>\n",
       "      <td>2</td>\n",
       "      <td>15</td>\n",
       "      <td>27.32</td>\n",
       "      <td>27.32</td>\n",
       "      <td>0</td>\n",
       "    </tr>\n",
       "    <tr>\n",
       "      <th>2</th>\n",
       "      <td>4</td>\n",
       "      <td>4</td>\n",
       "      <td>15</td>\n",
       "      <td>24.62</td>\n",
       "      <td>62.66</td>\n",
       "      <td>1</td>\n",
       "    </tr>\n",
       "    <tr>\n",
       "      <th>3</th>\n",
       "      <td>3</td>\n",
       "      <td>3</td>\n",
       "      <td>15</td>\n",
       "      <td>10.72</td>\n",
       "      <td>38.04</td>\n",
       "      <td>1</td>\n",
       "    </tr>\n",
       "    <tr>\n",
       "      <th>4</th>\n",
       "      <td>1</td>\n",
       "      <td>1</td>\n",
       "      <td>15</td>\n",
       "      <td>0.00</td>\n",
       "      <td>0.00</td>\n",
       "      <td>1</td>\n",
       "    </tr>\n",
       "  </tbody>\n",
       "</table>\n",
       "</div>"
      ],
      "text/plain": [
       "   GAME  WEEK  PLAYER_EXP_Y  LAST_WEEK_DK_POINTS  LAST_6_WEEK_DK_POINTS  \\\n",
       "0     2     2            17                 0.00                   0.00   \n",
       "1     2     2            15                27.32                  27.32   \n",
       "2     4     4            15                24.62                  62.66   \n",
       "3     3     3            15                10.72                  38.04   \n",
       "4     1     1            15                 0.00                   0.00   \n",
       "\n",
       "   OVER_18_PTS  \n",
       "0            0  \n",
       "1            0  \n",
       "2            1  \n",
       "3            1  \n",
       "4            1  "
      ]
     },
     "execution_count": 28,
     "metadata": {},
     "output_type": "execute_result"
    }
   ],
   "source": [
    "df = pd.read_csv('FFMLTESTQB.csv')\n",
    "df.head()"
   ]
  },
  {
   "cell_type": "code",
   "execution_count": 29,
   "metadata": {},
   "outputs": [],
   "source": [
    "data = df"
   ]
  },
  {
   "cell_type": "code",
   "execution_count": 30,
   "metadata": {},
   "outputs": [
    {
     "name": "stdout",
     "output_type": "stream",
     "text": [
      "Optimization terminated successfully.\n",
      "         Current function value: 0.620050\n",
      "         Iterations 5\n",
      "                           Logit Regression Results                           \n",
      "==============================================================================\n",
      "Dep. Variable:            OVER_18_PTS   No. Observations:                 1280\n",
      "Model:                          Logit   Df Residuals:                     1275\n",
      "Method:                           MLE   Df Model:                            4\n",
      "Date:                Thu, 03 Oct 2019   Pseudo R-squ.:                 0.05868\n",
      "Time:                        11:44:29   Log-Likelihood:                -793.66\n",
      "converged:                       True   LL-Null:                       -843.14\n",
      "Covariance Type:            nonrobust   LLR p-value:                 1.640e-20\n",
      "=========================================================================================\n",
      "                            coef    std err          z      P>|z|      [0.025      0.975]\n",
      "-----------------------------------------------------------------------------------------\n",
      "GAME                     -0.7681      0.219     -3.512      0.000      -1.197      -0.339\n",
      "WEEK                      0.5739      0.202      2.842      0.004       0.178       0.970\n",
      "PLAYER_EXP_Y             -0.0261      0.011     -2.395      0.017      -0.047      -0.005\n",
      "LAST_WEEK_DK_POINTS       0.0119      0.007      1.779      0.075      -0.001       0.025\n",
      "LAST_6_WEEK_DK_POINTS     0.0138      0.002      6.793      0.000       0.010       0.018\n",
      "=========================================================================================\n"
     ]
    }
   ],
   "source": [
    "train_cols = data.columns[:-1]\n",
    "logit = sm.Logit(data['OVER_18_PTS'], data[train_cols])\n",
    "result = logit.fit()\n",
    "print (result.summary())"
   ]
  },
  {
   "cell_type": "code",
   "execution_count": null,
   "metadata": {},
   "outputs": [],
   "source": []
  }
 ],
 "metadata": {
  "kernelspec": {
   "display_name": "Python 3",
   "language": "python",
   "name": "python3"
  },
  "language_info": {
   "codemirror_mode": {
    "name": "ipython",
    "version": 3
   },
   "file_extension": ".py",
   "mimetype": "text/x-python",
   "name": "python",
   "nbconvert_exporter": "python",
   "pygments_lexer": "ipython3",
   "version": "3.6.8"
  }
 },
 "nbformat": 4,
 "nbformat_minor": 2
}
