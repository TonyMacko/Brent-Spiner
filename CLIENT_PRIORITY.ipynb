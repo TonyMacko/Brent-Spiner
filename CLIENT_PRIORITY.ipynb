{
 "cells": [
  {
   "cell_type": "code",
   "execution_count": 1,
   "metadata": {},
   "outputs": [],
   "source": [
    "import pandas as pd\n",
    "import numpy as np\n",
    "import glob"
   ]
  },
  {
   "cell_type": "code",
   "execution_count": 2,
   "metadata": {},
   "outputs": [
    {
     "name": "stderr",
     "output_type": "stream",
     "text": [
      "C:\\Users\\anthony.macko\\AppData\\Local\\Continuum\\anaconda3\\lib\\site-packages\\IPython\\core\\interactiveshell.py:3044: DtypeWarning: Columns (16) have mixed types. Specify dtype option on import or set low_memory=False.\n",
      "  interactivity=interactivity, compiler=compiler, result=result)\n"
     ]
    },
    {
     "data": {
      "text/html": [
       "<div>\n",
       "<style scoped>\n",
       "    .dataframe tbody tr th:only-of-type {\n",
       "        vertical-align: middle;\n",
       "    }\n",
       "\n",
       "    .dataframe tbody tr th {\n",
       "        vertical-align: top;\n",
       "    }\n",
       "\n",
       "    .dataframe thead th {\n",
       "        text-align: right;\n",
       "    }\n",
       "</style>\n",
       "<table border=\"1\" class=\"dataframe\">\n",
       "  <thead>\n",
       "    <tr style=\"text-align: right;\">\n",
       "      <th></th>\n",
       "      <th>CLIENT_ID</th>\n",
       "      <th>ORDERS</th>\n",
       "      <th>MEN_NEEDED</th>\n",
       "      <th>AVERAGE_START_LAG</th>\n",
       "      <th>AVERAGE_DURATION</th>\n",
       "    </tr>\n",
       "  </thead>\n",
       "  <tbody>\n",
       "    <tr>\n",
       "      <th>0</th>\n",
       "      <td>164592</td>\n",
       "      <td>1</td>\n",
       "      <td>2</td>\n",
       "      <td>3.0</td>\n",
       "      <td>0.0</td>\n",
       "    </tr>\n",
       "    <tr>\n",
       "      <th>1</th>\n",
       "      <td>125984</td>\n",
       "      <td>1</td>\n",
       "      <td>2</td>\n",
       "      <td>2.0</td>\n",
       "      <td>-1.0</td>\n",
       "    </tr>\n",
       "    <tr>\n",
       "      <th>2</th>\n",
       "      <td>154383</td>\n",
       "      <td>1</td>\n",
       "      <td>1</td>\n",
       "      <td>0.0</td>\n",
       "      <td>1.0</td>\n",
       "    </tr>\n",
       "    <tr>\n",
       "      <th>3</th>\n",
       "      <td>166967</td>\n",
       "      <td>1</td>\n",
       "      <td>1</td>\n",
       "      <td>3.0</td>\n",
       "      <td>-1.0</td>\n",
       "    </tr>\n",
       "    <tr>\n",
       "      <th>4</th>\n",
       "      <td>FO133979</td>\n",
       "      <td>1</td>\n",
       "      <td>1</td>\n",
       "      <td>1.0</td>\n",
       "      <td>-1.0</td>\n",
       "    </tr>\n",
       "  </tbody>\n",
       "</table>\n",
       "</div>"
      ],
      "text/plain": [
       "          CLIENT_ID  ORDERS  MEN_NEEDED  AVERAGE_START_LAG  AVERAGE_DURATION\n",
       "0            164592       1           2                3.0               0.0\n",
       "1            125984       1           2                2.0              -1.0\n",
       "2            154383       1           1                0.0               1.0\n",
       "3            166967       1           1                3.0              -1.0\n",
       "4          FO133979       1           1                1.0              -1.0"
      ]
     },
     "execution_count": 2,
     "metadata": {},
     "output_type": "execute_result"
    }
   ],
   "source": [
    "df0=pd.read_csv(r'X:\\FACT_ORDER8.csv',encoding='windows-1252')\n",
    "df0 = df0[['ORDER_ID','CLIENT_ID','ORDERED','ORDER_START_LAG_DAYS','ORDER_DURATION_DAYS']]\n",
    "df0 = df0.groupby(by = ['CLIENT_ID']).agg({'ORDER_ID' : 'nunique', 'ORDERED' : 'sum' , \n",
    "                                                               'ORDER_START_LAG_DAYS' : 'mean' , 'ORDER_DURATION_DAYS' : 'mean'}).reset_index()\n",
    "df0.columns = ['CLIENT_ID','ORDERS','MEN_NEEDED','AVERAGE_START_LAG','AVERAGE_DURATION']\n",
    "df0.head()\n"
   ]
  },
  {
   "cell_type": "code",
   "execution_count": 3,
   "metadata": {},
   "outputs": [
    {
     "name": "stderr",
     "output_type": "stream",
     "text": [
      "C:\\Users\\anthony.macko\\AppData\\Local\\Continuum\\anaconda3\\lib\\site-packages\\IPython\\core\\interactiveshell.py:3044: DtypeWarning: Columns (0,16,17,18,31) have mixed types. Specify dtype option on import or set low_memory=False.\n",
      "  interactivity=interactivity, compiler=compiler, result=result)\n"
     ]
    }
   ],
   "source": [
    "df1=pd.read_csv(r'X:\\FACT_PRODUCTION2.csv',encoding='windows_1252')\n",
    "df1 = df1[['CLIENT_ID','INVOICE_HOURS','INVOICE_GP','COST_OF_SALES','SALES']]"
   ]
  },
  {
   "cell_type": "code",
   "execution_count": 4,
   "metadata": {},
   "outputs": [
    {
     "data": {
      "text/html": [
       "<div>\n",
       "<style scoped>\n",
       "    .dataframe tbody tr th:only-of-type {\n",
       "        vertical-align: middle;\n",
       "    }\n",
       "\n",
       "    .dataframe tbody tr th {\n",
       "        vertical-align: top;\n",
       "    }\n",
       "\n",
       "    .dataframe thead th {\n",
       "        text-align: right;\n",
       "    }\n",
       "</style>\n",
       "<table border=\"1\" class=\"dataframe\">\n",
       "  <thead>\n",
       "    <tr style=\"text-align: right;\">\n",
       "      <th></th>\n",
       "      <th>CLIENT_ID</th>\n",
       "      <th>GP_DOLLAR</th>\n",
       "    </tr>\n",
       "  </thead>\n",
       "  <tbody>\n",
       "    <tr>\n",
       "      <th>0</th>\n",
       "      <td>0</td>\n",
       "      <td>NaN</td>\n",
       "    </tr>\n",
       "    <tr>\n",
       "      <th>1</th>\n",
       "      <td>100005</td>\n",
       "      <td>6.128958</td>\n",
       "    </tr>\n",
       "    <tr>\n",
       "      <th>2</th>\n",
       "      <td>100016</td>\n",
       "      <td>11.032391</td>\n",
       "    </tr>\n",
       "    <tr>\n",
       "      <th>3</th>\n",
       "      <td>100034</td>\n",
       "      <td>11.014957</td>\n",
       "    </tr>\n",
       "    <tr>\n",
       "      <th>4</th>\n",
       "      <td>100035</td>\n",
       "      <td>10.984450</td>\n",
       "    </tr>\n",
       "  </tbody>\n",
       "</table>\n",
       "</div>"
      ],
      "text/plain": [
       "  CLIENT_ID  GP_DOLLAR\n",
       "0         0        NaN\n",
       "1    100005   6.128958\n",
       "2    100016  11.032391\n",
       "3    100034  11.014957\n",
       "4    100035  10.984450"
      ]
     },
     "execution_count": 4,
     "metadata": {},
     "output_type": "execute_result"
    }
   ],
   "source": [
    "df1 = df1.groupby(by = ['CLIENT_ID']).agg({'INVOICE_HOURS' : 'sum', 'INVOICE_GP' : 'sum' , 'COST_OF_SALES' : 'sum' , 'SALES' : 'sum'}).reset_index()\n",
    "df1.columns = ['CLIENT_ID','HOURS','GP','BURDEN','SALES']\n",
    "df1['GP_DOLLAR'] = df1['GP'] / df1['HOURS']\n",
    "df1.drop('HOURS', axis=1, inplace=True)\n",
    "df1.drop('GP', axis=1, inplace=True)\n",
    "df1.drop('BURDEN', axis=1, inplace=True)\n",
    "df1.drop('SALES', axis=1, inplace=True)\n",
    "df1.head()"
   ]
  },
  {
   "cell_type": "code",
   "execution_count": 5,
   "metadata": {},
   "outputs": [
    {
     "name": "stderr",
     "output_type": "stream",
     "text": [
      "C:\\Users\\anthony.macko\\AppData\\Local\\Continuum\\anaconda3\\lib\\site-packages\\IPython\\core\\interactiveshell.py:3044: DtypeWarning: Columns (3) have mixed types. Specify dtype option on import or set low_memory=False.\n",
      "  interactivity=interactivity, compiler=compiler, result=result)\n"
     ]
    },
    {
     "data": {
      "text/html": [
       "<div>\n",
       "<style scoped>\n",
       "    .dataframe tbody tr th:only-of-type {\n",
       "        vertical-align: middle;\n",
       "    }\n",
       "\n",
       "    .dataframe tbody tr th {\n",
       "        vertical-align: top;\n",
       "    }\n",
       "\n",
       "    .dataframe thead th {\n",
       "        text-align: right;\n",
       "    }\n",
       "</style>\n",
       "<table border=\"1\" class=\"dataframe\">\n",
       "  <thead>\n",
       "    <tr style=\"text-align: right;\">\n",
       "      <th></th>\n",
       "      <th>CLIENT_ID</th>\n",
       "      <th>CLIENT_TSI_FLAG</th>\n",
       "      <th>CLIENT_CLC_LEGACY_FLAG</th>\n",
       "      <th>CLIENT_VINTAGE</th>\n",
       "      <th>QUADRANT</th>\n",
       "      <th>ABC_MEMBER</th>\n",
       "    </tr>\n",
       "  </thead>\n",
       "  <tbody>\n",
       "    <tr>\n",
       "      <th>0</th>\n",
       "      <td>AAWBUI</td>\n",
       "      <td>0</td>\n",
       "      <td>0</td>\n",
       "      <td>1999</td>\n",
       "      <td>0</td>\n",
       "      <td>0</td>\n",
       "    </tr>\n",
       "    <tr>\n",
       "      <th>1</th>\n",
       "      <td>RLMCON</td>\n",
       "      <td>0</td>\n",
       "      <td>0</td>\n",
       "      <td>2002</td>\n",
       "      <td>0</td>\n",
       "      <td>0</td>\n",
       "    </tr>\n",
       "    <tr>\n",
       "      <th>2</th>\n",
       "      <td>DRCCON</td>\n",
       "      <td>0</td>\n",
       "      <td>0</td>\n",
       "      <td>1996</td>\n",
       "      <td>0</td>\n",
       "      <td>0</td>\n",
       "    </tr>\n",
       "    <tr>\n",
       "      <th>3</th>\n",
       "      <td>ACCCON</td>\n",
       "      <td>0</td>\n",
       "      <td>0</td>\n",
       "      <td>2001</td>\n",
       "      <td>0</td>\n",
       "      <td>0</td>\n",
       "    </tr>\n",
       "    <tr>\n",
       "      <th>4</th>\n",
       "      <td>ABMCON</td>\n",
       "      <td>0</td>\n",
       "      <td>0</td>\n",
       "      <td>2002</td>\n",
       "      <td>0</td>\n",
       "      <td>0</td>\n",
       "    </tr>\n",
       "  </tbody>\n",
       "</table>\n",
       "</div>"
      ],
      "text/plain": [
       "  CLIENT_ID  CLIENT_TSI_FLAG  CLIENT_CLC_LEGACY_FLAG  CLIENT_VINTAGE  \\\n",
       "0    AAWBUI                0                       0            1999   \n",
       "1    RLMCON                0                       0            2002   \n",
       "2    DRCCON                0                       0            1996   \n",
       "3    ACCCON                0                       0            2001   \n",
       "4    ABMCON                0                       0            2002   \n",
       "\n",
       "   QUADRANT  ABC_MEMBER  \n",
       "0         0           0  \n",
       "1         0           0  \n",
       "2         0           0  \n",
       "3         0           0  \n",
       "4         0           0  "
      ]
     },
     "execution_count": 5,
     "metadata": {},
     "output_type": "execute_result"
    }
   ],
   "source": [
    "df4=pd.read_csv(r'X:\\DIM_CLIENT.csv',encoding='windows-1252')\n",
    "df4 = df4[['CLIENT_ID','CLIENT_TSI_FLAG','CLIENT_CLC_LEGACY_FLAG','CLIENT_VINTAGE','QUADRANT','ABC_MEMBER']]\n",
    "df4['CLIENT_TSI_FLAG'] = np.where(df4['CLIENT_TSI_FLAG'] == \"N\",0,1)\n",
    "df4['CLIENT_CLC_LEGACY_FLAG'] = np.where(df4['CLIENT_CLC_LEGACY_FLAG'] == \"N\",0,1)\n",
    "df4.head()"
   ]
  },
  {
   "cell_type": "code",
   "execution_count": 6,
   "metadata": {},
   "outputs": [
    {
     "data": {
      "text/html": [
       "<div>\n",
       "<style scoped>\n",
       "    .dataframe tbody tr th:only-of-type {\n",
       "        vertical-align: middle;\n",
       "    }\n",
       "\n",
       "    .dataframe tbody tr th {\n",
       "        vertical-align: top;\n",
       "    }\n",
       "\n",
       "    .dataframe thead th {\n",
       "        text-align: right;\n",
       "    }\n",
       "</style>\n",
       "<table border=\"1\" class=\"dataframe\">\n",
       "  <thead>\n",
       "    <tr style=\"text-align: right;\">\n",
       "      <th></th>\n",
       "      <th>ORDERS</th>\n",
       "      <th>MEN_NEEDED</th>\n",
       "      <th>AVERAGE_START_LAG</th>\n",
       "      <th>AVERAGE_DURATION</th>\n",
       "      <th>CLIENT_TSI_FLAG</th>\n",
       "      <th>CLIENT_CLC_LEGACY_FLAG</th>\n",
       "      <th>CLIENT_VINTAGE</th>\n",
       "      <th>QUADRANT</th>\n",
       "      <th>ABC_MEMBER</th>\n",
       "      <th>PROFIT_LEVEL</th>\n",
       "    </tr>\n",
       "  </thead>\n",
       "  <tbody>\n",
       "    <tr>\n",
       "      <th>7</th>\n",
       "      <td>1</td>\n",
       "      <td>6</td>\n",
       "      <td>12.000000</td>\n",
       "      <td>10.00</td>\n",
       "      <td>0.0</td>\n",
       "      <td>0.0</td>\n",
       "      <td>2004.0</td>\n",
       "      <td>4.0</td>\n",
       "      <td>0.0</td>\n",
       "      <td>0</td>\n",
       "    </tr>\n",
       "    <tr>\n",
       "      <th>8</th>\n",
       "      <td>1</td>\n",
       "      <td>15</td>\n",
       "      <td>64.000000</td>\n",
       "      <td>0.00</td>\n",
       "      <td>0.0</td>\n",
       "      <td>0.0</td>\n",
       "      <td>2004.0</td>\n",
       "      <td>1.0</td>\n",
       "      <td>0.0</td>\n",
       "      <td>1</td>\n",
       "    </tr>\n",
       "    <tr>\n",
       "      <th>9</th>\n",
       "      <td>3</td>\n",
       "      <td>4</td>\n",
       "      <td>6.666667</td>\n",
       "      <td>15.00</td>\n",
       "      <td>0.0</td>\n",
       "      <td>0.0</td>\n",
       "      <td>2004.0</td>\n",
       "      <td>1.0</td>\n",
       "      <td>0.0</td>\n",
       "      <td>1</td>\n",
       "    </tr>\n",
       "    <tr>\n",
       "      <th>10</th>\n",
       "      <td>4</td>\n",
       "      <td>27</td>\n",
       "      <td>114.750000</td>\n",
       "      <td>0.00</td>\n",
       "      <td>0.0</td>\n",
       "      <td>0.0</td>\n",
       "      <td>2004.0</td>\n",
       "      <td>3.0</td>\n",
       "      <td>0.0</td>\n",
       "      <td>1</td>\n",
       "    </tr>\n",
       "    <tr>\n",
       "      <th>11</th>\n",
       "      <td>25</td>\n",
       "      <td>31</td>\n",
       "      <td>6.720000</td>\n",
       "      <td>39.04</td>\n",
       "      <td>0.0</td>\n",
       "      <td>0.0</td>\n",
       "      <td>2004.0</td>\n",
       "      <td>4.0</td>\n",
       "      <td>0.0</td>\n",
       "      <td>0</td>\n",
       "    </tr>\n",
       "  </tbody>\n",
       "</table>\n",
       "</div>"
      ],
      "text/plain": [
       "    ORDERS  MEN_NEEDED  AVERAGE_START_LAG  AVERAGE_DURATION  CLIENT_TSI_FLAG  \\\n",
       "7        1           6          12.000000             10.00              0.0   \n",
       "8        1          15          64.000000              0.00              0.0   \n",
       "9        3           4           6.666667             15.00              0.0   \n",
       "10       4          27         114.750000              0.00              0.0   \n",
       "11      25          31           6.720000             39.04              0.0   \n",
       "\n",
       "    CLIENT_CLC_LEGACY_FLAG  CLIENT_VINTAGE  QUADRANT  ABC_MEMBER  PROFIT_LEVEL  \n",
       "7                      0.0          2004.0       4.0         0.0             0  \n",
       "8                      0.0          2004.0       1.0         0.0             1  \n",
       "9                      0.0          2004.0       1.0         0.0             1  \n",
       "10                     0.0          2004.0       3.0         0.0             1  \n",
       "11                     0.0          2004.0       4.0         0.0             0  "
      ]
     },
     "execution_count": 6,
     "metadata": {},
     "output_type": "execute_result"
    }
   ],
   "source": [
    "df6 = df0.merge(df4,on=[\"CLIENT_ID\"], how = \"left\")\n",
    "df6 = df6.merge(df1, on =['CLIENT_ID'], how = \"left\" )\n",
    "df6.drop('CLIENT_ID', axis=1, inplace=True)\n",
    "df6= df6[(df6.GP_DOLLAR > 1) & (df6.GP_DOLLAR < 20)]\n",
    "df6= df6[(df6.QUADRANT != 0)] \n",
    "df6=df6.dropna()\n",
    "df6['PROFIT_LEVEL'] = pd.qcut(df6['GP_DOLLAR'], 2, labels=False)\n",
    "df6.drop('GP_DOLLAR', axis=1, inplace=True)\n",
    "df6.head()"
   ]
  },
  {
   "cell_type": "code",
   "execution_count": 7,
   "metadata": {},
   "outputs": [],
   "source": [
    "df6.to_csv(r'X:\\ML MODELS\\ORDER_PRIORITY.csv', sep=',', encoding='utf-8', index = False)"
   ]
  },
  {
   "cell_type": "code",
   "execution_count": 8,
   "metadata": {},
   "outputs": [],
   "source": [
    "from sklearn.model_selection import train_test_split\n",
    "from sklearn.linear_model import LogisticRegression\n",
    "from sklearn.metrics import accuracy_score\n",
    "from sklearn.metrics import classification_report\n",
    "import statsmodels.discrete.discrete_model as sm"
   ]
  },
  {
   "cell_type": "code",
   "execution_count": 9,
   "metadata": {},
   "outputs": [
    {
     "name": "stderr",
     "output_type": "stream",
     "text": [
      "C:\\Users\\anthony.macko\\AppData\\Local\\Continuum\\anaconda3\\lib\\site-packages\\sklearn\\linear_model\\logistic.py:433: FutureWarning: Default solver will be changed to 'lbfgs' in 0.22. Specify a solver to silence this warning.\n",
      "  FutureWarning)\n"
     ]
    }
   ],
   "source": [
    "X = df6.drop([\"PROFIT_LEVEL\"], axis=1)\n",
    "y = df6[\"PROFIT_LEVEL\"]\n",
    "\n",
    "X_train, X_test, y_train, y_test = train_test_split(X, y, test_size=0.2, random_state=123)\n",
    "\n",
    "\n",
    "model = LogisticRegression()\n",
    "model.fit(X_train, y_train)\n",
    "\n",
    "predictions = model.predict(X_test)\n",
    "model_features = list(X)\n",
    "\n",
    "coef_dict = {}\n",
    "for coef, feat in zip(model.coef_,'COEF'):\n",
    "    coef_dict[feat] = coef\n",
    "    \n",
    "\n"
   ]
  },
  {
   "cell_type": "code",
   "execution_count": 10,
   "metadata": {},
   "outputs": [
    {
     "data": {
      "text/plain": [
       "array([[-0.00205972,  0.0030608 ,  0.01942065,  0.00384266,  0.38793522,\n",
       "        -0.26998766,  0.00223186, -1.63706783,  0.41016871]])"
      ]
     },
     "execution_count": 10,
     "metadata": {},
     "output_type": "execute_result"
    }
   ],
   "source": [
    "model.coef_"
   ]
  },
  {
   "cell_type": "code",
   "execution_count": 11,
   "metadata": {},
   "outputs": [
    {
     "name": "stdout",
     "output_type": "stream",
     "text": [
      "              precision    recall  f1-score   support\n",
      "\n",
      "           0       0.82      0.86      0.84      2963\n",
      "           1       0.85      0.81      0.83      2924\n",
      "\n",
      "   micro avg       0.84      0.84      0.84      5887\n",
      "   macro avg       0.84      0.84      0.84      5887\n",
      "weighted avg       0.84      0.84      0.84      5887\n",
      "\n"
     ]
    }
   ],
   "source": [
    "print(classification_report(y_test,predictions))"
   ]
  },
  {
   "cell_type": "code",
   "execution_count": null,
   "metadata": {},
   "outputs": [],
   "source": []
  }
 ],
 "metadata": {
  "kernelspec": {
   "display_name": "Python 3",
   "language": "python",
   "name": "python3"
  },
  "language_info": {
   "codemirror_mode": {
    "name": "ipython",
    "version": 3
   },
   "file_extension": ".py",
   "mimetype": "text/x-python",
   "name": "python",
   "nbconvert_exporter": "python",
   "pygments_lexer": "ipython3",
   "version": "3.6.8"
  }
 },
 "nbformat": 4,
 "nbformat_minor": 2
}
