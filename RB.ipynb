{
 "cells": [
  {
   "cell_type": "code",
   "execution_count": 1,
   "metadata": {},
   "outputs": [],
   "source": [
    "import pandas as pd\n",
    "import statsmodels.api as sm\n",
    "import pylab as pl\n",
    "import numpy as np"
   ]
  },
  {
   "cell_type": "code",
   "execution_count": 2,
   "metadata": {},
   "outputs": [
    {
     "data": {
      "text/html": [
       "<div>\n",
       "<style scoped>\n",
       "    .dataframe tbody tr th:only-of-type {\n",
       "        vertical-align: middle;\n",
       "    }\n",
       "\n",
       "    .dataframe tbody tr th {\n",
       "        vertical-align: top;\n",
       "    }\n",
       "\n",
       "    .dataframe thead th {\n",
       "        text-align: right;\n",
       "    }\n",
       "</style>\n",
       "<table border=\"1\" class=\"dataframe\">\n",
       "  <thead>\n",
       "    <tr style=\"text-align: right;\">\n",
       "      <th></th>\n",
       "      <th>HOME</th>\n",
       "      <th>GAME</th>\n",
       "      <th>AGE</th>\n",
       "      <th>LAST_WEEK_DK_POINTS</th>\n",
       "      <th>LAST_6_WEEK_DK_POINTS</th>\n",
       "      <th>OVER_12</th>\n",
       "    </tr>\n",
       "  </thead>\n",
       "  <tbody>\n",
       "    <tr>\n",
       "      <th>0</th>\n",
       "      <td>1</td>\n",
       "      <td>4</td>\n",
       "      <td>22.300</td>\n",
       "      <td>0.0</td>\n",
       "      <td>0.0</td>\n",
       "      <td>0</td>\n",
       "    </tr>\n",
       "    <tr>\n",
       "      <th>1</th>\n",
       "      <td>0</td>\n",
       "      <td>5</td>\n",
       "      <td>22.310</td>\n",
       "      <td>10.9</td>\n",
       "      <td>10.9</td>\n",
       "      <td>1</td>\n",
       "    </tr>\n",
       "    <tr>\n",
       "      <th>2</th>\n",
       "      <td>0</td>\n",
       "      <td>6</td>\n",
       "      <td>22.317</td>\n",
       "      <td>21.5</td>\n",
       "      <td>32.4</td>\n",
       "      <td>0</td>\n",
       "    </tr>\n",
       "    <tr>\n",
       "      <th>3</th>\n",
       "      <td>1</td>\n",
       "      <td>7</td>\n",
       "      <td>22.324</td>\n",
       "      <td>4.1</td>\n",
       "      <td>36.5</td>\n",
       "      <td>1</td>\n",
       "    </tr>\n",
       "    <tr>\n",
       "      <th>4</th>\n",
       "      <td>0</td>\n",
       "      <td>14</td>\n",
       "      <td>23.015</td>\n",
       "      <td>0.0</td>\n",
       "      <td>0.0</td>\n",
       "      <td>0</td>\n",
       "    </tr>\n",
       "  </tbody>\n",
       "</table>\n",
       "</div>"
      ],
      "text/plain": [
       "   HOME  GAME     AGE  LAST_WEEK_DK_POINTS  LAST_6_WEEK_DK_POINTS  OVER_12\n",
       "0     1     4  22.300                  0.0                    0.0        0\n",
       "1     0     5  22.310                 10.9                   10.9        1\n",
       "2     0     6  22.317                 21.5                   32.4        0\n",
       "3     1     7  22.324                  4.1                   36.5        1\n",
       "4     0    14  23.015                  0.0                    0.0        0"
      ]
     },
     "execution_count": 2,
     "metadata": {},
     "output_type": "execute_result"
    }
   ],
   "source": [
    "df = pd.read_csv('FFMLTESTRB.csv')\n",
    "df.head()"
   ]
  },
  {
   "cell_type": "code",
   "execution_count": 3,
   "metadata": {},
   "outputs": [],
   "source": [
    "data = df"
   ]
  },
  {
   "cell_type": "code",
   "execution_count": 4,
   "metadata": {},
   "outputs": [
    {
     "name": "stdout",
     "output_type": "stream",
     "text": [
      "Optimization terminated successfully.\n",
      "         Current function value: 0.624994\n",
      "         Iterations 5\n",
      "                           Logit Regression Results                           \n",
      "==============================================================================\n",
      "Dep. Variable:                OVER_12   No. Observations:                 1590\n",
      "Model:                          Logit   Df Residuals:                     1585\n",
      "Method:                           MLE   Df Model:                            4\n",
      "Date:                Thu, 03 Oct 2019   Pseudo R-squ.:                 0.07341\n",
      "Time:                        13:46:50   Log-Likelihood:                -993.74\n",
      "converged:                       True   LL-Null:                       -1072.5\n",
      "Covariance Type:            nonrobust   LLR p-value:                 5.102e-33\n",
      "=========================================================================================\n",
      "                            coef    std err          z      P>|z|      [0.025      0.975]\n",
      "-----------------------------------------------------------------------------------------\n",
      "HOME                      0.3424      0.107      3.194      0.001       0.132       0.552\n",
      "GAME                     -0.0416      0.013     -3.258      0.001      -0.067      -0.017\n",
      "AGE                      -0.0376      0.005     -8.030      0.000      -0.047      -0.028\n",
      "LAST_WEEK_DK_POINTS       0.0209      0.007      3.061      0.002       0.008       0.034\n",
      "LAST_6_WEEK_DK_POINTS     0.0147      0.002      6.800      0.000       0.010       0.019\n",
      "=========================================================================================\n"
     ]
    }
   ],
   "source": [
    "train_cols = data.columns[:-1]\n",
    "logit = sm.Logit(data['OVER_12'], data[train_cols])\n",
    "result = logit.fit()\n",
    "print (result.summary())"
   ]
  },
  {
   "cell_type": "code",
   "execution_count": null,
   "metadata": {},
   "outputs": [],
   "source": []
  },
  {
   "cell_type": "code",
   "execution_count": null,
   "metadata": {},
   "outputs": [],
   "source": []
  }
 ],
 "metadata": {
  "kernelspec": {
   "display_name": "Python 3",
   "language": "python",
   "name": "python3"
  },
  "language_info": {
   "codemirror_mode": {
    "name": "ipython",
    "version": 3
   },
   "file_extension": ".py",
   "mimetype": "text/x-python",
   "name": "python",
   "nbconvert_exporter": "python",
   "pygments_lexer": "ipython3",
   "version": "3.6.8"
  }
 },
 "nbformat": 4,
 "nbformat_minor": 2
}
