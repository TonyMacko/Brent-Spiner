{
 "cells": [
  {
   "cell_type": "code",
   "execution_count": 1,
   "metadata": {},
   "outputs": [],
   "source": [
    "import pandas as pd\n",
    "import statsmodels.api as sm\n",
    "import pylab as pl\n",
    "import numpy as np\n",
    "from sklearn.metrics import confusion_matrix\n",
    "from sklearn.model_selection import train_test_split\n",
    "from sklearn.linear_model import LogisticRegression\n",
    "from sklearn.metrics import accuracy_score\n",
    "from sklearn.metrics import classification_report\n",
    "from statsmodels.formula.api import ols\n",
    "from sklearn.linear_model import LinearRegression\n",
    "import matplotlib.pyplot as plt\n",
    "import seaborn as sns\n",
    "%matplotlib inline"
   ]
  },
  {
   "cell_type": "code",
   "execution_count": 2,
   "metadata": {},
   "outputs": [
    {
     "data": {
      "text/html": [
       "<div>\n",
       "<style scoped>\n",
       "    .dataframe tbody tr th:only-of-type {\n",
       "        vertical-align: middle;\n",
       "    }\n",
       "\n",
       "    .dataframe tbody tr th {\n",
       "        vertical-align: top;\n",
       "    }\n",
       "\n",
       "    .dataframe thead th {\n",
       "        text-align: right;\n",
       "    }\n",
       "</style>\n",
       "<table border=\"1\" class=\"dataframe\">\n",
       "  <thead>\n",
       "    <tr style=\"text-align: right;\">\n",
       "      <th></th>\n",
       "      <th>QB</th>\n",
       "      <th>SOUTH</th>\n",
       "      <th>AWAY</th>\n",
       "      <th>GAME</th>\n",
       "      <th>WEEK</th>\n",
       "      <th>AGE</th>\n",
       "      <th>PLAYER_EXP_Y</th>\n",
       "      <th>LAST_WEEK_DK_POINTS</th>\n",
       "      <th>LAST_6_WEEK_DK_POINTS</th>\n",
       "      <th>DK_POINTS</th>\n",
       "    </tr>\n",
       "  </thead>\n",
       "  <tbody>\n",
       "    <tr>\n",
       "      <th>0</th>\n",
       "      <td>0</td>\n",
       "      <td>1</td>\n",
       "      <td>1</td>\n",
       "      <td>3</td>\n",
       "      <td>3</td>\n",
       "      <td>22.081</td>\n",
       "      <td>0</td>\n",
       "      <td>0.0</td>\n",
       "      <td>0.0</td>\n",
       "      <td>1.4</td>\n",
       "    </tr>\n",
       "    <tr>\n",
       "      <th>1</th>\n",
       "      <td>0</td>\n",
       "      <td>1</td>\n",
       "      <td>1</td>\n",
       "      <td>4</td>\n",
       "      <td>4</td>\n",
       "      <td>22.091</td>\n",
       "      <td>0</td>\n",
       "      <td>1.4</td>\n",
       "      <td>1.4</td>\n",
       "      <td>24.4</td>\n",
       "    </tr>\n",
       "    <tr>\n",
       "      <th>2</th>\n",
       "      <td>0</td>\n",
       "      <td>0</td>\n",
       "      <td>0</td>\n",
       "      <td>4</td>\n",
       "      <td>4</td>\n",
       "      <td>22.300</td>\n",
       "      <td>0</td>\n",
       "      <td>0.0</td>\n",
       "      <td>0.0</td>\n",
       "      <td>10.9</td>\n",
       "    </tr>\n",
       "    <tr>\n",
       "      <th>3</th>\n",
       "      <td>0</td>\n",
       "      <td>0</td>\n",
       "      <td>1</td>\n",
       "      <td>5</td>\n",
       "      <td>5</td>\n",
       "      <td>22.310</td>\n",
       "      <td>0</td>\n",
       "      <td>10.9</td>\n",
       "      <td>10.9</td>\n",
       "      <td>21.5</td>\n",
       "    </tr>\n",
       "    <tr>\n",
       "      <th>4</th>\n",
       "      <td>0</td>\n",
       "      <td>0</td>\n",
       "      <td>1</td>\n",
       "      <td>6</td>\n",
       "      <td>6</td>\n",
       "      <td>22.317</td>\n",
       "      <td>0</td>\n",
       "      <td>21.5</td>\n",
       "      <td>32.4</td>\n",
       "      <td>4.1</td>\n",
       "    </tr>\n",
       "  </tbody>\n",
       "</table>\n",
       "</div>"
      ],
      "text/plain": [
       "   QB  SOUTH  AWAY  GAME  WEEK     AGE  PLAYER_EXP_Y  LAST_WEEK_DK_POINTS  \\\n",
       "0   0      1     1     3     3  22.081             0                  0.0   \n",
       "1   0      1     1     4     4  22.091             0                  1.4   \n",
       "2   0      0     0     4     4  22.300             0                  0.0   \n",
       "3   0      0     1     5     5  22.310             0                 10.9   \n",
       "4   0      0     1     6     6  22.317             0                 21.5   \n",
       "\n",
       "   LAST_6_WEEK_DK_POINTS  DK_POINTS  \n",
       "0                    0.0        1.4  \n",
       "1                    1.4       24.4  \n",
       "2                    0.0       10.9  \n",
       "3                   10.9       21.5  \n",
       "4                   32.4        4.1  "
      ]
     },
     "execution_count": 2,
     "metadata": {},
     "output_type": "execute_result"
    }
   ],
   "source": [
    "df = pd.read_csv('ALLREG.csv')\n",
    "df.head()"
   ]
  },
  {
   "cell_type": "code",
   "execution_count": 3,
   "metadata": {},
   "outputs": [],
   "source": [
    "data = df"
   ]
  },
  {
   "cell_type": "code",
   "execution_count": 4,
   "metadata": {},
   "outputs": [
    {
     "name": "stdout",
     "output_type": "stream",
     "text": [
      "                                 OLS Regression Results                                \n",
      "=======================================================================================\n",
      "Dep. Variable:              DK_POINTS   R-squared (uncentered):                   0.755\n",
      "Model:                            OLS   Adj. R-squared (uncentered):              0.755\n",
      "Method:                 Least Squares   F-statistic:                              1582.\n",
      "Date:                Fri, 04 Oct 2019   Prob (F-statistic):                        0.00\n",
      "Time:                        13:48:09   Log-Likelihood:                         -16310.\n",
      "No. Observations:                4628   AIC:                                  3.264e+04\n",
      "Df Residuals:                    4619   BIC:                                  3.270e+04\n",
      "Df Model:                           9                                                  \n",
      "Covariance Type:            nonrobust                                                  \n",
      "=========================================================================================\n",
      "                            coef    std err          t      P>|t|      [0.025      0.975]\n",
      "-----------------------------------------------------------------------------------------\n",
      "QB                        0.9190      0.324      2.838      0.005       0.284       1.554\n",
      "SOUTH                     0.7299      0.277      2.636      0.008       0.187       1.273\n",
      "AWAY                     -0.6451      0.242     -2.670      0.008      -1.119      -0.172\n",
      "GAME                     -1.7523      0.460     -3.810      0.000      -2.654      -0.851\n",
      "WEEK                      1.4271      0.423      3.376      0.001       0.598       2.256\n",
      "AGE                       0.5472      0.014     38.465      0.000       0.519       0.575\n",
      "PLAYER_EXP_Y             -0.5334      0.042    -12.837      0.000      -0.615      -0.452\n",
      "LAST_WEEK_DK_POINTS       0.0916      0.015      6.110      0.000       0.062       0.121\n",
      "LAST_6_WEEK_DK_POINTS     0.0627      0.005     13.568      0.000       0.054       0.072\n",
      "==============================================================================\n",
      "Omnibus:                      610.796   Durbin-Watson:                   1.925\n",
      "Prob(Omnibus):                  0.000   Jarque-Bera (JB):              930.061\n",
      "Skew:                           0.945   Prob(JB):                    1.10e-202\n",
      "Kurtosis:                       4.118   Cond. No.                         320.\n",
      "==============================================================================\n",
      "\n",
      "Warnings:\n",
      "[1] Standard Errors assume that the covariance matrix of the errors is correctly specified.\n"
     ]
    }
   ],
   "source": [
    "train_cols = data.columns[:-1]\n",
    "mod = sm.OLS(data['DK_POINTS'], data[train_cols])\n",
    "result = mod.fit()\n",
    "print (result.summary())"
   ]
  },
  {
   "cell_type": "code",
   "execution_count": 5,
   "metadata": {},
   "outputs": [
    {
     "data": {
      "text/plain": [
       "LinearRegression(copy_X=True, fit_intercept=True, n_jobs=None, normalize=False)"
      ]
     },
     "execution_count": 5,
     "metadata": {},
     "output_type": "execute_result"
    }
   ],
   "source": [
    "y = data['DK_POINTS']\n",
    "X = data[data.columns[:-1]]\n",
    "\n",
    "X_train, X_test, y_train, y_test = train_test_split(X, y, test_size=0.3, random_state=101)\n",
    "\n",
    "\n",
    "lm = LinearRegression()\n",
    "\n",
    "lm.fit(X_train,y_train)\n",
    "\n"
   ]
  },
  {
   "cell_type": "code",
   "execution_count": 6,
   "metadata": {},
   "outputs": [],
   "source": [
    "predictions = lm.predict( X_test)"
   ]
  },
  {
   "cell_type": "code",
   "execution_count": 7,
   "metadata": {},
   "outputs": [
    {
     "data": {
      "text/plain": [
       "Text(0, 0.5, 'Predicted Y')"
      ]
     },
     "execution_count": 7,
     "metadata": {},
     "output_type": "execute_result"
    },
    {
     "data": {
      "image/png": "[encoded data removed]",
      "text/plain": [
       "<Figure size 432x288 with 1 Axes>"
      ]
     },
     "metadata": {
      "needs_background": "light"
     },
     "output_type": "display_data"
    }
   ],
   "source": [
    "plt.scatter(y_test,predictions)\n",
    "plt.xlabel('Y Test')\n",
    "plt.ylabel('Predicted Y')"
   ]
  },
  {
   "cell_type": "code",
   "execution_count": 8,
   "metadata": {},
   "outputs": [
    {
     "name": "stdout",
     "output_type": "stream",
     "text": [
      "MAE: 6.301180733511713\n",
      "MSE: 66.96759058997907\n",
      "RMSE: 8.18337281259867\n"
     ]
    }
   ],
   "source": [
    "from sklearn import metrics\n",
    "\n",
    "print('MAE:', metrics.mean_absolute_error(y_test, predictions))\n",
    "print('MSE:', metrics.mean_squared_error(y_test, predictions))\n",
    "print('RMSE:', np.sqrt(metrics.mean_squared_error(y_test, predictions)))"
   ]
  },
  {
   "cell_type": "code",
   "execution_count": 9,
   "metadata": {},
   "outputs": [
    {
     "data": {
      "image/png": "[encoded data removed]",
      "text/plain": [
       "<Figure size 432x288 with 1 Axes>"
      ]
     },
     "metadata": {
      "needs_background": "light"
     },
     "output_type": "display_data"
    }
   ],
   "source": [
    "sns.distplot((y_test-predictions),bins=50);"
   ]
  },
  {
   "cell_type": "code",
   "execution_count": 10,
   "metadata": {},
   "outputs": [
    {
     "data": {
      "text/html": [
       "<div>\n",
       "<style scoped>\n",
       "    .dataframe tbody tr th:only-of-type {\n",
       "        vertical-align: middle;\n",
       "    }\n",
       "\n",
       "    .dataframe tbody tr th {\n",
       "        vertical-align: top;\n",
       "    }\n",
       "\n",
       "    .dataframe thead th {\n",
       "        text-align: right;\n",
       "    }\n",
       "</style>\n",
       "<table border=\"1\" class=\"dataframe\">\n",
       "  <thead>\n",
       "    <tr style=\"text-align: right;\">\n",
       "      <th></th>\n",
       "      <th>Coeffecient</th>\n",
       "    </tr>\n",
       "  </thead>\n",
       "  <tbody>\n",
       "    <tr>\n",
       "      <th>QB</th>\n",
       "      <td>1.588924</td>\n",
       "    </tr>\n",
       "    <tr>\n",
       "      <th>SOUTH</th>\n",
       "      <td>0.318912</td>\n",
       "    </tr>\n",
       "    <tr>\n",
       "      <th>AWAY</th>\n",
       "      <td>-0.951316</td>\n",
       "    </tr>\n",
       "    <tr>\n",
       "      <th>GAME</th>\n",
       "      <td>-2.289435</td>\n",
       "    </tr>\n",
       "    <tr>\n",
       "      <th>WEEK</th>\n",
       "      <td>1.931541</td>\n",
       "    </tr>\n",
       "    <tr>\n",
       "      <th>AGE</th>\n",
       "      <td>-0.249591</td>\n",
       "    </tr>\n",
       "    <tr>\n",
       "      <th>PLAYER_EXP_Y</th>\n",
       "      <td>0.241348</td>\n",
       "    </tr>\n",
       "    <tr>\n",
       "      <th>LAST_WEEK_DK_POINTS</th>\n",
       "      <td>0.089588</td>\n",
       "    </tr>\n",
       "    <tr>\n",
       "      <th>LAST_6_WEEK_DK_POINTS</th>\n",
       "      <td>0.057005</td>\n",
       "    </tr>\n",
       "  </tbody>\n",
       "</table>\n",
       "</div>"
      ],
      "text/plain": [
       "                       Coeffecient\n",
       "QB                        1.588924\n",
       "SOUTH                     0.318912\n",
       "AWAY                     -0.951316\n",
       "GAME                     -2.289435\n",
       "WEEK                      1.931541\n",
       "AGE                      -0.249591\n",
       "PLAYER_EXP_Y              0.241348\n",
       "LAST_WEEK_DK_POINTS       0.089588\n",
       "LAST_6_WEEK_DK_POINTS     0.057005"
      ]
     },
     "execution_count": 10,
     "metadata": {},
     "output_type": "execute_result"
    }
   ],
   "source": [
    "coeffecients = pd.DataFrame(lm.coef_,X.columns)\n",
    "coeffecients.columns = ['Coeffecient']\n",
    "coeffecients"
   ]
  },
  {
   "cell_type": "code",
   "execution_count": null,
   "metadata": {},
   "outputs": [],
   "source": []
  },
  {
   "cell_type": "code",
   "execution_count": null,
   "metadata": {},
   "outputs": [],
   "source": []
  }
 ],
 "metadata": {
  "kernelspec": {
   "display_name": "Python 3",
   "language": "python",
   "name": "python3"
  },
  "language_info": {
   "codemirror_mode": {
    "name": "ipython",
    "version": 3
   },
   "file_extension": ".py",
   "mimetype": "text/x-python",
   "name": "python",
   "nbconvert_exporter": "python",
   "pygments_lexer": "ipython3",
   "version": "3.6.8"
  }
 },
 "nbformat": 4,
 "nbformat_minor": 2
}
